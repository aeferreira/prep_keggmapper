{
 "cells": [
  {
   "cell_type": "code",
   "execution_count": 1,
   "metadata": {},
   "outputs": [],
   "source": [
    "import ipywidgets as widgets"
   ]
  },
  {
   "cell_type": "code",
   "execution_count": 2,
   "metadata": {},
   "outputs": [],
   "source": [
    "def get_cid(data):\n",
    "    cid = []\n",
    "    for line in data.splitlines():\n",
    "        ID = line.split(\"\\t\")[6]\n",
    "        if ID.startswith(\"C\"):\n",
    "            cid.append(ID)\n",
    "    return cid\n",
    "\n",
    "def compute(allBY, allDX):\n",
    "\n",
    "    DX = get_cid(allDX)\n",
    "    BY = get_cid(allBY)\n",
    "\n",
    "    # join the two lists, removing duplicates\n",
    "    allcompounds = list( dict.fromkeys(DX + BY))\n",
    "\n",
    "    # transform into sets (to compute set intersection)\n",
    "\n",
    "    setBY = set(BY)\n",
    "    setDX = set(DX)\n",
    "    both = setBY.intersection(setDX)\n",
    "    onlyBY = setBY.difference(setDX)\n",
    "    onlyDX = setDX.difference(setBY)\n",
    "    \n",
    "    results = {'n1': len(onlyBY), 'n2': len(onlyDX), 'n_common': len(both)}\n",
    "\n",
    "    text = [\"KEGG_ID\\tcolor\"]\n",
    "\n",
    "    for compound in allcompounds:\n",
    "        if compound in both:\n",
    "            color = 'yellow'\n",
    "        elif compound in setBY:\n",
    "            color = 'green'\n",
    "        else:\n",
    "            color = 'red'\n",
    "\n",
    "        text.append( f'{compound}\\t{color}' )\n",
    "    text = '\\n'.join(text)\n",
    "    results['map'] = text\n",
    "    return results"
   ]
  },
  {
   "cell_type": "markdown",
   "metadata": {},
   "source": [
    "#### Interface"
   ]
  },
  {
   "cell_type": "code",
   "execution_count": 3,
   "metadata": {},
   "outputs": [
    {
     "data": {
      "application/vnd.jupyter.widget-view+json": {
       "model_id": "5f29da6966fe435daadd4186b36eb8fb",
       "version_major": 2,
       "version_minor": 0
      },
      "text/plain": [
       "VBox(children=(HTML(value='<h4>&#9312 Upload two MassTRiX <code>.annotated</code> files:</h4>'), HBox(children…"
      ]
     },
     "metadata": {},
     "output_type": "display_data"
    }
   ],
   "source": [
    "fname1 = widgets.HTML(value='')\n",
    "file1_upload = widgets.FileUpload(description='File 1', accept='.annotated', multiple=False)\n",
    "\n",
    "fname2 = widgets.HTML(value='')\n",
    "file2_upload = widgets.FileUpload(description='File 2', accept='.annotated', multiple=False)\n",
    "\n",
    "def on_value_change1(change):\n",
    "    name = change['new'][0]['name']\n",
    "    fname1.value = f'<b>{name}</b>'\n",
    "\n",
    "file1_upload.observe(on_value_change1, names='metadata')\n",
    "\n",
    "def on_value_change2(change):\n",
    "    name = change['new'][0]['name']\n",
    "    fname2.value = f'<b>{name}</b>'\n",
    "\n",
    "file2_upload.observe(on_value_change2, names='metadata')\n",
    "\n",
    "hbox1 = widgets.HBox([file1_upload, fname1])\n",
    "hbox2 = widgets.HBox([file2_upload, fname2])\n",
    "\n",
    "button = widgets.Button(description=\"Compute\", button_style='primary')\n",
    "button_reset = widgets.Button(description=\"Reset\")\n",
    "  \n",
    "def on_button_clicked(b):\n",
    "    out.clear_output()\n",
    "    file_uploads = (file1_upload, file2_upload)\n",
    "    names = [fu.metadata[0]['name'] for fu in file_uploads]\n",
    "    with out:\n",
    "        print(\"Reading files...\")\n",
    "        for n in names:\n",
    "            print(f'     {n}')\n",
    "        print(\"\\nProcessing KeGG IDs...\")\n",
    "    f1_content = file1_upload.data[0].decode('utf-8')\n",
    "    f2_content = file2_upload.data[0].decode('utf-8')\n",
    "    results = compute(f1_content, f2_content)\n",
    "    numbers = [f\"   There are {results['n_common']} common KeGG IDs in both files\",\n",
    "               f\"   There are {results['n1']} exclusive KeGG IDs in file {names[0]}\",\n",
    "               f\"   There are {results['n2']} exclusive KeGG IDs in file {names[1]}\"]\n",
    "    #print_on_html('<br/>'.join(numbers))\n",
    "    with out:\n",
    "        print('\\n'.join(numbers))\n",
    "    \n",
    "        with open(\"map.txt\", \"w+\") as a:\n",
    "            a.write(results['map'])\n",
    "        display(widgets.HTML(value='\\nFile <b>map.txt</b> was generated. It maps KeGG IDs to colors'))\n",
    "        #print('\\nFile demo.txt was generated. It maps KeGG IDs to colors')\n",
    "\n",
    "def on_reset_button_clicked(b):\n",
    "    out.clear_output()\n",
    "    file1_upload.metadata.clear()\n",
    "    file1_upload.data.clear()\n",
    "    file1_upload.value.clear()\n",
    "    file1_upload._counter = 0\n",
    "    file2_upload.metadata.clear()\n",
    "    file2_upload.data.clear()\n",
    "    file2_upload.value.clear()\n",
    "    file2_upload._counter = 0\n",
    "    \n",
    "    fname1.value = ''\n",
    "    fname2.value = ''\n",
    "\n",
    "    \n",
    "button.on_click(on_button_clicked)\n",
    "button_reset.on_click(on_reset_button_clicked)\n",
    "               \n",
    "hbuttonbox = widgets.HBox([button, button_reset])\n",
    "\n",
    "out = widgets.Output()\n",
    "\n",
    "vbox = widgets.VBox([widgets.HTML(value='<h4>&#9312 Upload two MassTRiX <code>.annotated</code> files:</h4>'),\n",
    "                     hbox1, hbox2,\n",
    "                     widgets.HTML(value='<hr/>'),\n",
    "                     hbuttonbox,\n",
    "                     out])\n",
    "vbox"
   ]
  },
  {
   "cell_type": "code",
   "execution_count": null,
   "metadata": {},
   "outputs": [],
   "source": []
  }
 ],
 "metadata": {
  "kernelspec": {
   "display_name": "Python 3",
   "language": "python",
   "name": "python3"
  },
  "language_info": {
   "codemirror_mode": {
    "name": "ipython",
    "version": 3
   },
   "file_extension": ".py",
   "mimetype": "text/x-python",
   "name": "python",
   "nbconvert_exporter": "python",
   "pygments_lexer": "ipython3",
   "version": "3.7.6"
  }
 },
 "nbformat": 4,
 "nbformat_minor": 2
}
